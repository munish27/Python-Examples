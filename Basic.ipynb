{
 "metadata": {
  "language_info": {
   "codemirror_mode": {
    "name": "ipython",
    "version": 3
   },
   "file_extension": ".py",
   "mimetype": "text/x-python",
   "name": "python",
   "nbconvert_exporter": "python",
   "pygments_lexer": "ipython3",
   "version": "3.9.0"
  },
  "orig_nbformat": 2,
  "kernelspec": {
   "name": "python390jvsc74a57bd0fe2a502c3422f1812fcdbfd63f5ea47525b22fcf93c1cc9ed272488953f3d173",
   "display_name": "Python 3.9.0 64-bit"
  }
 },
 "nbformat": 4,
 "nbformat_minor": 2,
 "cells": [
  {
   "source": [
    "BASIC PROGRAMS---PYTHON"
   ],
   "cell_type": "markdown",
   "metadata": {}
  },
  {
   "cell_type": "code",
   "execution_count": 2,
   "metadata": {},
   "outputs": [
    {
     "output_type": "stream",
     "name": "stdout",
     "text": [
      "5\n"
     ]
    }
   ],
   "source": [
    "# 1.add two numbers\n",
    "def func(a,b):\n",
    "    c= a+b\n",
    "    return c\n",
    "\n",
    "result = func(2,3)\n",
    "print(result)\n"
   ]
  },
  {
   "cell_type": "code",
   "execution_count": 4,
   "metadata": {},
   "outputs": [
    {
     "output_type": "stream",
     "name": "stdout",
     "text": [
      "a is greater than b\n"
     ]
    }
   ],
   "source": [
    "# 2. Maximum of two numbers\n",
    "def func(a,b):\n",
    "    if a>b:\n",
    "        return \"a is greater than b\"\n",
    "    else:\n",
    "        return \"b is greater than a\"\n",
    "\n",
    "result = func(3,2)\n",
    "print(result)\n"
   ]
  },
  {
   "cell_type": "code",
   "execution_count": 6,
   "metadata": {},
   "outputs": [
    {
     "output_type": "stream",
     "name": "stdout",
     "text": [
      "120\n"
     ]
    }
   ],
   "source": [
    "# 3. Factorial of given number        formula to find factorial---> n! = n*(n-1)*(n-2)....*1\n",
    "# METHOD 1-----> Iterative \n",
    "def func(n):\n",
    "    if n<0:\n",
    "        return \"enter +ve number\"\n",
    "    elif n==0 or n==1:\n",
    "        return 1\n",
    "    else:\n",
    "        fact = 1\n",
    "        while(n>1):\n",
    "            fact *= n\n",
    "            n -= 1\n",
    "        return fact\n",
    "\n",
    "result = func(5)\n",
    "print(result)"
   ]
  },
  {
   "cell_type": "code",
   "execution_count": 30,
   "metadata": {},
   "outputs": [
    {
     "output_type": "stream",
     "name": "stdout",
     "text": [
      "120\n"
     ]
    }
   ],
   "source": [
    "# 4. Factorial using Recursion \n",
    "# METHOD 2\n",
    "def func(n):\n",
    "    assert n>0 and int(n)==n, \"Enter integer value\"\n",
    "    if n<0:\n",
    "        return \"enter +ve number\"\n",
    "    elif n==0 or n==1:\n",
    "        return 1\n",
    "    else:\n",
    "        res = n*func(n-1)\n",
    "        return res\n",
    "\n",
    "user = int(input(\"Enter number: \"))\n",
    "result = func(user)\n",
    "print(result)"
   ]
  },
  {
   "cell_type": "code",
   "execution_count": 28,
   "metadata": {},
   "outputs": [
    {
     "output_type": "stream",
     "name": "stdout",
     "text": [
      "120\n"
     ]
    }
   ],
   "source": [
    "# 5. Using Ternary Operator\n",
    "# Method 3\n",
    "def func(n):\n",
    "    return 1 if (n==0 or n==1) else n*func(n-1)\n",
    "\n",
    "result = func(5)\n",
    "print(result)"
   ]
  },
  {
   "source": [
    "# 6. Using buitlin factorial  function\n",
    "# Method 4\n",
    "import math\n",
    "def factorial(n):\n",
    "    return math.factorial(n)\n",
    "\n",
    "print(factorial(5))\n",
    "\n"
   ],
   "cell_type": "code",
   "metadata": {},
   "execution_count": 36,
   "outputs": [
    {
     "output_type": "stream",
     "name": "stdout",
     "text": [
      "120\n"
     ]
    }
   ]
  },
  {
   "cell_type": "code",
   "execution_count": 38,
   "metadata": {},
   "outputs": [
    {
     "output_type": "stream",
     "name": "stdout",
     "text": [
      "3.84\n"
     ]
    }
   ],
   "source": [
    "# 7. Find the simple Interest\n",
    "# Formula --->  P*T*R/100\n",
    "\n",
    "def func(p,t,r):\n",
    "    result = (p*t*r)/100\n",
    "    return result\n",
    "res = func(8,6,8)\n",
    "print(res)"
   ]
  },
  {
   "cell_type": "code",
   "execution_count": 46,
   "metadata": {},
   "outputs": [
    {
     "output_type": "stream",
     "name": "stdout",
     "text": [
      "6488.848034974573\n"
     ]
    }
   ],
   "source": [
    "# 8. Find compund Interest \n",
    "#Formula -----Formula to calculate compound interest annually is given by: \n",
    "# A = P(1 + R/100)^t \n",
    "# Compound Interest = A – P \n",
    "# Where, \n",
    "# A is amount \n",
    "# P is principle amount \n",
    "# R is the rate and \n",
    "# T is the time span\n",
    "\n",
    "def func(principle,time,rate):\n",
    "    amount = principle*(pow((1+rate/100),time))\n",
    "    ci = amount-principle\n",
    "    print(ci)\n",
    "\n",
    "result = func(10000,10.25,5)\n",
    "\n"
   ]
  },
  {
   "cell_type": "code",
   "execution_count": 48,
   "metadata": {},
   "outputs": [
    {
     "output_type": "stream",
     "name": "stdout",
     "text": [
      "0.0\n"
     ]
    }
   ],
   "source": [
    "# 9. Armstrong Number\n",
    "# 153 = 1**3+5**3+3**3 = 153\n",
    "def func(n):\n",
    "    temp = n\n",
    "    sum = 0\n",
    "    while n != 0:\n",
    "        remainder = temp%10\n",
    "        sum = sum + pow(remainder,n)\n",
    "        temp = temp//10\n",
    "    return sum==n\n",
    "res = func(153)\n",
    "print(res)\n"
   ]
  },
  {
   "cell_type": "code",
   "execution_count": null,
   "metadata": {},
   "outputs": [],
   "source": []
  }
 ]
}